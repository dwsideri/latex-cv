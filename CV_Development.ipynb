{
 "cells": [
  {
   "cell_type": "code",
   "execution_count": 1,
   "metadata": {
    "collapsed": true
   },
   "outputs": [],
   "source": [
    "import json"
   ]
  },
  {
   "cell_type": "code",
   "execution_count": 3,
   "metadata": {
    "collapsed": false
   },
   "outputs": [],
   "source": [
    "#Single Block\n",
    "design_data = json.load(open(\"design.json\",mode='r'))\n",
    "\n",
    "header = open(\"header.tex\",mode='r')\n",
    "output = open(\"newcv.tex\",mode='w')\n",
    "for line in header:\n",
    "    output.write(line)\n",
    "header.close()\n",
    "\n",
    "data_block = design_data[\"Publications\"]\n",
    "if isinstance(data_block[\"number\"],int):\n",
    "    how_many = data_block[\"number\"]\n",
    "else:\n",
    "    how_many = 1e6 #I don't think I'll write more than 1 million papers\n",
    "\n",
    "output.write(\"\\section{\\sc \"+data_block[\"label\"]+'}\\n')\n",
    "input_data = open(data_block[\"file\"])\n",
    "items = []\n",
    "for line in input_data:\n",
    "    if line != '\\n':\n",
    "        items.append(line.strip('\\n'))\n",
    "input_data.close()\n",
    "for (count,item) in enumerate(items):\n",
    "    if count < how_many:\n",
    "        #print item\n",
    "        output.write(item+'\\n'+'\\n')\n",
    "        \n",
    "output.write(\"\\end{resume}\\n\\end{document})\\n\")\n",
    "output.close()"
   ]
  },
  {
   "cell_type": "code",
   "execution_count": 17,
   "metadata": {
    "collapsed": false
   },
   "outputs": [],
   "source": [
    "#Multiple Blocks via the \"Sequence\" entry\n",
    "design_data = json.load(open(\"design.json\",mode='r'))\n",
    "\n",
    "header = open(\"header.tex\",mode='r')\n",
    "output = open(\"newcv.tex\",mode='w')\n",
    "for line in header:\n",
    "    output.write(line)\n",
    "header.close()\n",
    "\n",
    "for section in design_data[\"Sequence\"]:\n",
    "    #Extract the current section\n",
    "    data_block = design_data[section]\n",
    "    if isinstance(data_block[\"number\"],int):\n",
    "        how_many = data_block[\"number\"]\n",
    "    else:\n",
    "        how_many = 1e6 #I don't think I'll have more than 1 million of any category\n",
    "    #Write the current section\n",
    "    output.write(\"\\section{\\sc \"+data_block[\"label\"]+'}\\n')\n",
    "    input_data = open(data_block[\"file\"])\n",
    "    items = []\n",
    "    for line in input_data:\n",
    "        if line != '\\n':\n",
    "            items.append(line.strip('\\n'))\n",
    "    input_data.close()\n",
    "    for (count,item) in enumerate(items):\n",
    "        if count < how_many:\n",
    "            #print item\n",
    "            output.write(item+'\\n'+'\\n')\n",
    "    \n",
    "\n",
    "#Finalize the TeX document\n",
    "output.write(\"\\end{resume}\\n\\end{document})\\n\")\n",
    "output.close()"
   ]
  },
  {
   "cell_type": "code",
   "execution_count": null,
   "metadata": {
    "collapsed": true
   },
   "outputs": [],
   "source": [
    "TO-DO:\n",
    "    1. Option for a TeX block, not list\n",
    "    2. Education section\n",
    "    3. Research Interests\n",
    "    4. Journal reviewing\n",
    "    5. Conference organization\n",
    "    6. Contact Information\n",
    "    "
   ]
  }
 ],
 "metadata": {
  "kernelspec": {
   "display_name": "Python [conda root]",
   "language": "python",
   "name": "conda-root-py"
  },
  "language_info": {
   "codemirror_mode": {
    "name": "ipython",
    "version": 2
   },
   "file_extension": ".py",
   "mimetype": "text/x-python",
   "name": "python",
   "nbconvert_exporter": "python",
   "pygments_lexer": "ipython2",
   "version": "2.7.13"
  }
 },
 "nbformat": 4,
 "nbformat_minor": 2
}
