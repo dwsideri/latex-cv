{
 "cells": [
  {
   "cell_type": "code",
   "execution_count": 1,
   "metadata": {},
   "outputs": [],
   "source": [
    "import os\n",
    "import json\n",
    "from pybtex.database.input import bibtex"
   ]
  },
  {
   "cell_type": "code",
   "execution_count": 11,
   "metadata": {},
   "outputs": [],
   "source": [
    "class latex_CV:\n",
    "    def __init__(self):\n",
    "        self.master = ''\n",
    "        self.add_TeX_block('\\\\documentclass[margin,line]{res}')\n",
    "        self.whitespace()\n",
    "    \n",
    "    #Overload the returned value of self\n",
    "    def __str__(self):\n",
    "        return self.master\n",
    "    \n",
    "    #Method to add a carriage return to the string\n",
    "    def newline(self):\n",
    "        self.master += '\\n'\n",
    "        \n",
    "    def whitespace(self):\n",
    "        self.master += '\\n\\n'\n",
    "        \n",
    "    def finalize(self):\n",
    "        self.add_TeX_block('\\\\end{resume}\\n')\n",
    "        self.add_TeX_block('\\\\end{document}')\n",
    "\n",
    "    def add_TeX_file(self,file):\n",
    "        with open(file,mode='r') as f:\n",
    "            new_text = f.read()\n",
    "        self.master += new_text\n",
    "        self.whitespace()\n",
    "\n",
    "    def add_TeX_block(self,block):\n",
    "        self.master += block\n",
    "        self.whitespace()\n",
    "        \n",
    "    def compile(self):\n",
    "        with open('cv.tex',mode='w') as f:\n",
    "            f.write(self.master)\n",
    "        os.system('pdflatex cv')\n",
    "        os.system('pdflatex cv')\n",
    "        for x in ['tex','aux','log']:\n",
    "            try:\n",
    "                os.remove('cv.'+x)\n",
    "            except:\n",
    "                continue\n",
    "        \n",
    "# Instantiation\n",
    "test = latex_CV()\n",
    "\n",
    "test.add_TeX_file('preamble.tex')\n",
    "test.add_TeX_block('\\\\begin{document}\\n')\n",
    "test.add_TeX_block('\\\\name{Daniel William Siderius\\vspace*{.1in}}\\n')\n",
    "test.add_TeX_block('\\\\begin{resume}\\n')\n",
    "test.add_TeX_file('header.tex')\n",
    "\n",
    "test.add_TeX_block('\\section{\\sc Education}\\n')\n",
    "test.add_TeX_file('education.tex')\n",
    "\n",
    "test.add_TeX_block('\\section{\\sc Intellectual Property}\\n')\n",
    "test.add_TeX_file('IP.tex')\n",
    "\n",
    "\n",
    "test.finalize()\n",
    "\n",
    "#print(test)\n",
    "\n",
    "test.compile()\n"
   ]
  },
  {
   "cell_type": "code",
   "execution_count": null,
   "metadata": {},
   "outputs": [],
   "source": []
  }
 ],
 "metadata": {
  "kernelspec": {
   "display_name": "Python 3",
   "language": "python",
   "name": "python3"
  },
  "language_info": {
   "codemirror_mode": {
    "name": "ipython",
    "version": 3
   },
   "file_extension": ".py",
   "mimetype": "text/x-python",
   "name": "python",
   "nbconvert_exporter": "python",
   "pygments_lexer": "ipython3",
   "version": "3.7.3"
  }
 },
 "nbformat": 4,
 "nbformat_minor": 2
}
